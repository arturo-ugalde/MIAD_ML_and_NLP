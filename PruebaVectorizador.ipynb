{
 "cells": [
  {
   "cell_type": "code",
   "execution_count": null,
   "metadata": {},
   "outputs": [],
   "source": [
    "from sklearn.feature_extraction.text import CountVectorizer, TfidfVectorizer"
   ]
  },
  {
   "cell_type": "code",
   "execution_count": null,
   "metadata": {},
   "outputs": [],
   "source": [
    "sentences = ['Rashmi likes ice cream likes', 'Rashmi hates chocolate.']\n",
    "\n",
    "vectorizer = CountVectorizer(min_df=0, lowercase=False)\n",
    "vectores =vectorizer.fit(sentences)\n",
    "vectorizer.vocabulary_"
   ]
  },
  {
   "cell_type": "code",
   "execution_count": null,
   "metadata": {},
   "outputs": [],
   "source": [
    "vect_A = CountVectorizer()\n",
    "X_dtm_A = vect_A.fit_transform(sentences)\n",
    "temp_A=X_dtm_A.todense()\n",
    "temp_A"
   ]
  },
  {
   "cell_type": "code",
   "execution_count": null,
   "metadata": {},
   "outputs": [],
   "source": [
    "print(vect_A.get_feature_names())"
   ]
  },
  {
   "cell_type": "code",
   "execution_count": null,
   "metadata": {},
   "outputs": [],
   "source": [
    "import pandas as pd\n",
    "\n",
    "counts = pd.DataFrame(X_dtm_A.toarray(),\n",
    "                      columns=vectorizer.get_feature_names())\n",
    "counts"
   ]
  },
  {
   "cell_type": "code",
   "execution_count": null,
   "metadata": {},
   "outputs": [],
   "source": [
    "counts.T.sort_values(by=0, ascending=False).head(10)"
   ]
  },
  {
   "cell_type": "code",
   "execution_count": null,
   "metadata": {},
   "outputs": [],
   "source": [
    "import requests\n",
    "\n",
    "df = pd.DataFrame([\n",
    "    { 'name': 'Pride and Prejudice', 'url': 'http://www.gutenberg.org/cache/epub/42671/pg42671.txt' },\n",
    "    { 'name': 'Frankenstein', 'url': 'https://www.gutenberg.org/files/84/84-0.txt' },\n",
    "    { 'name': 'Dr. Jekyll and Mr. Hyde', 'url': 'https://www.gutenberg.org/files/43/43-0.txt' },\n",
    "    { 'name': 'Great Expectations', 'url': 'https://www.gutenberg.org/files/1400/1400-0.txt' },\n",
    "])\n",
    "\n",
    "df['content'] = df.url.apply(lambda url: requests.get(url).text)\n",
    "\n",
    "df"
   ]
  },
  {
   "cell_type": "code",
   "execution_count": null,
   "metadata": {},
   "outputs": [],
   "source": [
    "vectorizer = CountVectorizer(stop_words=['the'])\n",
    "#vectorizer = TfidfVectorizer(stop_words=['the'])\n",
    "\n",
    "matrix = vectorizer.fit_transform(df.content)\n",
    "counts = pd.DataFrame(matrix.toarray(),\n",
    "                  index=df.name,\n",
    "                  columns=vectorizer.get_feature_names())\n",
    "\n",
    "counts.head()"
   ]
  },
  {
   "cell_type": "code",
   "execution_count": null,
   "metadata": {},
   "outputs": [],
   "source": [
    "sums = counts.select_dtypes(pd.np.number).sum().rename('total')\n",
    "counts.loc['Total'] = sums\n",
    "counts"
   ]
  },
  {
   "cell_type": "code",
   "execution_count": null,
   "metadata": {},
   "outputs": [],
   "source": [
    "counts.T.sort_values(by='Great Expectations', ascending=False).head(10)"
   ]
  },
  {
   "cell_type": "code",
   "execution_count": null,
   "metadata": {},
   "outputs": [],
   "source": [
    "counts.T.sort_values(by='Total', ascending=False).head(10)"
   ]
  },
  {
   "cell_type": "code",
   "execution_count": null,
   "metadata": {},
   "outputs": [],
   "source": [
    "import pandas as pd\n",
    "import glob\n",
    "import os\n",
    "\n",
    "#path = r'C:\\Users\\geibe\\Downloads\\BorrarLuego' # use your path\n",
    "path = r'C:/Users/geibe/Downloads/BorrarLuego/' # use your path\n",
    "#all_files = glob.glob(os.path.join(path , \"*.zip\"))\n",
    "all_files = glob.glob(os.path.join(path , \"train.csv\"))\n",
    "\n",
    "li = []\n",
    "\n",
    "for filename in all_files:\n",
    "    #file1 = open(filename,\"r\",encoding='utf8') \n",
    "    #df = file1.read()\n",
    "    li.append(filename)\n",
    "    #file1.close()\n",
    "\n",
    "#frame = pd.concat(li, axis=0, ignore_index=True)\n",
    "#frame = pd.concat(li,  )\n",
    "#frame\n",
    "\n"
   ]
  },
  {
   "cell_type": "code",
   "execution_count": null,
   "metadata": {},
   "outputs": [],
   "source": [
    "li"
   ]
  },
  {
   "cell_type": "code",
   "execution_count": null,
   "metadata": {},
   "outputs": [],
   "source": [
    "file1 = open(li[0],\"r\",encoding='utf8') \n",
    "file1.read()"
   ]
  },
  {
   "cell_type": "code",
   "execution_count": null,
   "metadata": {},
   "outputs": [],
   "source": [
    "file1 = open('C:/Users/geibe/Downloads/BorrarLuego/new.csv',\"r\")\n",
    "k = file1.read()\n",
    "file1.close()\n",
    "print(k)"
   ]
  },
  {
   "cell_type": "code",
   "execution_count": null,
   "metadata": {},
   "outputs": [],
   "source": [
    "with open('C:/Users/geibe/Downloads/BorrarLuego/new.txt', encoding='utf8') as f:\n",
    "    for line in f:\n",
    "        print(line.strip())"
   ]
  },
  {
   "cell_type": "code",
   "execution_count": 1,
   "metadata": {},
   "outputs": [
    {
     "name": "stdout",
     "output_type": "stream",
     "text": [
      "j\n"
     ]
    }
   ],
   "source": [
    "print('j')"
   ]
  }
 ],
 "metadata": {
  "interpreter": {
   "hash": "848496adee59b4efbf054196ae6c2775583b8d4c786fffe738f149b89d310812"
  },
  "kernelspec": {
   "display_name": "Python 3.8.5 ('base')",
   "language": "python",
   "name": "python3"
  },
  "language_info": {
   "codemirror_mode": {
    "name": "ipython",
    "version": 3
   },
   "file_extension": ".py",
   "mimetype": "text/x-python",
   "name": "python",
   "nbconvert_exporter": "python",
   "pygments_lexer": "ipython3",
   "version": "3.8.5"
  },
  "orig_nbformat": 4
 },
 "nbformat": 4,
 "nbformat_minor": 2
}
