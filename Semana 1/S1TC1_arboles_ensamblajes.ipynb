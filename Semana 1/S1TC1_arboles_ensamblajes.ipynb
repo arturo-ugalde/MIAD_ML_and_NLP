{
 "cells": [
  {
   "cell_type": "markdown",
   "metadata": {},
   "source": [
    "![image info](https://raw.githubusercontent.com/albahnsen/MIAD_ML_and_NLP/main/images/banner_1.png)"
   ]
  },
  {
   "cell_type": "markdown",
   "metadata": {},
   "source": [
    "# Taller: Construcción e implementación de árboles de decisión y métodos de ensamblaje\n",
    "\n",
    "En este taller podrá poner en práctica los sus conocimientos sobre construcción e implementación de árboles de decisión y métodos de ensamblajes. El taller está constituido por 9 puntos, 5 relacionados con árboles de decisión (parte A) y 4 con métodos de ensamblaje (parte B)."
   ]
  },
  {
   "cell_type": "markdown",
   "metadata": {},
   "source": [
    "## Parte A - Árboles de decisión\n",
    "\n",
    "En esta parte del taller se usará el conjunto de datos de Capital Bikeshare de Kaggle, donde cada observación representa el alquiler de una bicicleta durante una hora y día determinado. Para más detalles puede visitar los siguientes enlaces: [datos](https://github.com/justmarkham/DAT8/blob/master/data/bikeshare.csv), [dicccionario de datos](https://www.kaggle.com/c/bike-sharing-demand/data)."
   ]
  },
  {
   "cell_type": "markdown",
   "metadata": {},
   "source": [
    "### Datos prestamo de bicicletas"
   ]
  },
  {
   "cell_type": "code",
   "execution_count": 21,
   "metadata": {},
   "outputs": [],
   "source": [
    "import warnings\n",
    "warnings.filterwarnings('ignore')"
   ]
  },
  {
   "cell_type": "code",
   "execution_count": 22,
   "metadata": {},
   "outputs": [],
   "source": [
    "# Importación de librerías\n",
    "%matplotlib inline\n",
    "import pandas as pd\n",
    "import numpy as np\n",
    "from sklearn.model_selection import cross_val_score\n",
    "from sklearn.linear_model import LinearRegression\n",
    "from sklearn.tree import DecisionTreeRegressor, export_graphviz"
   ]
  },
  {
   "cell_type": "code",
   "execution_count": 23,
   "metadata": {},
   "outputs": [
    {
     "data": {
      "text/html": [
       "<div>\n",
       "<style scoped>\n",
       "    .dataframe tbody tr th:only-of-type {\n",
       "        vertical-align: middle;\n",
       "    }\n",
       "\n",
       "    .dataframe tbody tr th {\n",
       "        vertical-align: top;\n",
       "    }\n",
       "\n",
       "    .dataframe thead th {\n",
       "        text-align: right;\n",
       "    }\n",
       "</style>\n",
       "<table border=\"1\" class=\"dataframe\">\n",
       "  <thead>\n",
       "    <tr style=\"text-align: right;\">\n",
       "      <th></th>\n",
       "      <th>season</th>\n",
       "      <th>holiday</th>\n",
       "      <th>workingday</th>\n",
       "      <th>weather</th>\n",
       "      <th>temp</th>\n",
       "      <th>atemp</th>\n",
       "      <th>humidity</th>\n",
       "      <th>windspeed</th>\n",
       "      <th>casual</th>\n",
       "      <th>registered</th>\n",
       "      <th>total</th>\n",
       "      <th>hour</th>\n",
       "    </tr>\n",
       "    <tr>\n",
       "      <th>datetime</th>\n",
       "      <th></th>\n",
       "      <th></th>\n",
       "      <th></th>\n",
       "      <th></th>\n",
       "      <th></th>\n",
       "      <th></th>\n",
       "      <th></th>\n",
       "      <th></th>\n",
       "      <th></th>\n",
       "      <th></th>\n",
       "      <th></th>\n",
       "      <th></th>\n",
       "    </tr>\n",
       "  </thead>\n",
       "  <tbody>\n",
       "    <tr>\n",
       "      <th>2011-01-01 00:00:00</th>\n",
       "      <td>1</td>\n",
       "      <td>0</td>\n",
       "      <td>0</td>\n",
       "      <td>1</td>\n",
       "      <td>9.84</td>\n",
       "      <td>14.395</td>\n",
       "      <td>81</td>\n",
       "      <td>0.0</td>\n",
       "      <td>3</td>\n",
       "      <td>13</td>\n",
       "      <td>16</td>\n",
       "      <td>0</td>\n",
       "    </tr>\n",
       "    <tr>\n",
       "      <th>2011-01-01 01:00:00</th>\n",
       "      <td>1</td>\n",
       "      <td>0</td>\n",
       "      <td>0</td>\n",
       "      <td>1</td>\n",
       "      <td>9.02</td>\n",
       "      <td>13.635</td>\n",
       "      <td>80</td>\n",
       "      <td>0.0</td>\n",
       "      <td>8</td>\n",
       "      <td>32</td>\n",
       "      <td>40</td>\n",
       "      <td>1</td>\n",
       "    </tr>\n",
       "    <tr>\n",
       "      <th>2011-01-01 02:00:00</th>\n",
       "      <td>1</td>\n",
       "      <td>0</td>\n",
       "      <td>0</td>\n",
       "      <td>1</td>\n",
       "      <td>9.02</td>\n",
       "      <td>13.635</td>\n",
       "      <td>80</td>\n",
       "      <td>0.0</td>\n",
       "      <td>5</td>\n",
       "      <td>27</td>\n",
       "      <td>32</td>\n",
       "      <td>2</td>\n",
       "    </tr>\n",
       "    <tr>\n",
       "      <th>2011-01-01 03:00:00</th>\n",
       "      <td>1</td>\n",
       "      <td>0</td>\n",
       "      <td>0</td>\n",
       "      <td>1</td>\n",
       "      <td>9.84</td>\n",
       "      <td>14.395</td>\n",
       "      <td>75</td>\n",
       "      <td>0.0</td>\n",
       "      <td>3</td>\n",
       "      <td>10</td>\n",
       "      <td>13</td>\n",
       "      <td>3</td>\n",
       "    </tr>\n",
       "    <tr>\n",
       "      <th>2011-01-01 04:00:00</th>\n",
       "      <td>1</td>\n",
       "      <td>0</td>\n",
       "      <td>0</td>\n",
       "      <td>1</td>\n",
       "      <td>9.84</td>\n",
       "      <td>14.395</td>\n",
       "      <td>75</td>\n",
       "      <td>0.0</td>\n",
       "      <td>0</td>\n",
       "      <td>1</td>\n",
       "      <td>1</td>\n",
       "      <td>4</td>\n",
       "    </tr>\n",
       "  </tbody>\n",
       "</table>\n",
       "</div>"
      ],
      "text/plain": [
       "                     season  holiday  workingday  weather  temp   atemp  \\\n",
       "datetime                                                                  \n",
       "2011-01-01 00:00:00       1        0           0        1  9.84  14.395   \n",
       "2011-01-01 01:00:00       1        0           0        1  9.02  13.635   \n",
       "2011-01-01 02:00:00       1        0           0        1  9.02  13.635   \n",
       "2011-01-01 03:00:00       1        0           0        1  9.84  14.395   \n",
       "2011-01-01 04:00:00       1        0           0        1  9.84  14.395   \n",
       "\n",
       "                     humidity  windspeed  casual  registered  total  hour  \n",
       "datetime                                                                   \n",
       "2011-01-01 00:00:00        81        0.0       3          13     16     0  \n",
       "2011-01-01 01:00:00        80        0.0       8          32     40     1  \n",
       "2011-01-01 02:00:00        80        0.0       5          27     32     2  \n",
       "2011-01-01 03:00:00        75        0.0       3          10     13     3  \n",
       "2011-01-01 04:00:00        75        0.0       0           1      1     4  "
      ]
     },
     "execution_count": 23,
     "metadata": {},
     "output_type": "execute_result"
    }
   ],
   "source": [
    "# Lectura de la información de archivo .csv\n",
    "bikes = pd.read_csv('https://raw.githubusercontent.com/albahnsen/MIAD_ML_and_NLP/main/datasets/bikeshare.csv', index_col='datetime', parse_dates=True)\n",
    "# Renombrar variable \"count\" a \"total\"\n",
    "bikes.rename(columns={'count':'total'}, inplace=True)\n",
    "# Crear la hora como una variable \n",
    "bikes['hour'] = bikes.index.hour\n",
    "# Visualización\n",
    "bikes.head()"
   ]
  },
  {
   "cell_type": "markdown",
   "metadata": {},
   "source": [
    "### Punto 1 - Análisis descriptivo\n",
    "\n",
    "Ejecute las celdas 1.1 y 1.2. A partir de los resultados realice un análisis descriptivo sobre las variables hour y workingday, escriba sus inferencias sobre los datos. Para complementar su análisis puede usar métricas como máximo, mínimo, percentiles entre otros."
   ]
  },
  {
   "cell_type": "code",
   "execution_count": 24,
   "metadata": {},
   "outputs": [
    {
     "name": "stdout",
     "output_type": "stream",
     "text": [
      "             count        mean         std  min   25%    50%    75%    max\n",
      "workingday                                                                \n",
      "0           3474.0  188.506621  173.724015  1.0  44.0  128.0  304.0  783.0\n",
      "1           7412.0  193.011873  184.513659  1.0  41.0  151.0  277.0  977.0\n",
      "\n",
      "La mayor cantidad de bicicletas alquiladas se alcanzó en un día laboral,  977 alquiladas en promedio.\n",
      "En esta variable 'workinday' se observa que hay más observaciones para días laborales (working days) que no laborales.\n",
      "Esto sugiere que hay más movimiento de alquileres en días laborales.  Sin embargo, los promedios de bicicletas alquiladas son similares,  188.50 para workingday==0 y 193.01 para días laborales (workingday==1)\n"
     ]
    }
   ],
   "source": [
    "# Celda 1.1\n",
    "bikes.groupby('workingday').total.mean()\n",
    "\n",
    "print(bikes.groupby('workingday').total.describe())\n",
    "\n",
    "print(\"\\nLa mayor cantidad de bicicletas alquiladas se alcanzó en un día laboral,  977 alquiladas en promedio.\")\n",
    "print(\"En esta variable 'workinday' se observa que hay más observaciones para días laborales (working days) que no laborales.\")\n",
    "print(\"Esto sugiere que hay más movimiento de alquileres en días laborales.  Sin embargo, los promedios de bicicletas alquiladas son similares,  188.50 para workingday==0 y 193.01 para días laborales (workingday==1)\")\n"
   ]
  },
  {
   "cell_type": "code",
   "execution_count": 25,
   "metadata": {
    "scrolled": true
   },
   "outputs": [
    {
     "name": "stdout",
     "output_type": "stream",
     "text": [
      "      count        mean         std   min     25%    50%     75%    max\n",
      "hour                                                                   \n",
      "0     455.0   55.138462   43.620012   2.0   24.00   41.0   74.50  283.0\n",
      "1     454.0   33.859031   34.112105   1.0   11.00   19.0   46.00  168.0\n",
      "2     448.0   22.899554   26.110267   1.0    5.00   11.0   32.00  119.0\n",
      "3     433.0   11.757506   12.666442   1.0    3.00    6.0   15.00   66.0\n",
      "4     442.0    6.407240    4.217633   1.0    3.00    6.0    9.00   28.0\n",
      "5     452.0   19.767699   12.784293   1.0    8.00   19.0   29.00   57.0\n",
      "6     455.0   76.259341   54.745333   1.0   24.50   75.0  118.00  213.0\n",
      "7     455.0  213.116484  159.207044   1.0   63.00  208.0  334.00  596.0\n",
      "8     455.0  362.769231  231.723065   8.0  133.50  392.0  563.50  839.0\n",
      "9     455.0  221.780220   92.099209  14.0  161.00  217.0  294.50  414.0\n",
      "10    455.0  175.092308  101.807629  17.0  106.00  149.0  218.50  539.0\n",
      "11    455.0  210.674725  127.444294  10.0  123.00  183.0  265.50  647.0\n",
      "12    456.0  256.508772  143.881880   3.0  157.00  234.5  332.00  757.0\n",
      "13    456.0  257.787281  149.167185  11.0  154.00  226.5  329.00  729.0\n",
      "14    456.0  243.442982  147.563199  12.0  144.00  212.0  311.25  730.0\n",
      "15    456.0  254.298246  144.235670   7.0  154.00  232.0  331.00  724.0\n",
      "16    456.0  316.372807  145.664786  11.0  211.75  309.5  421.00  783.0\n",
      "17    456.0  468.765351  223.775485  15.0  277.00  480.5  608.50  970.0\n",
      "18    456.0  430.859649  219.908138  23.0  240.75  422.5  564.00  977.0\n",
      "19    456.0  315.278509  156.641732  11.0  190.00  312.5  416.00  743.0\n",
      "20    456.0  228.517544  116.411565  11.0  136.75  224.0  302.00  551.0\n",
      "21    456.0  173.370614   87.629319   6.0  103.50  171.5  230.00  584.0\n",
      "22    456.0  133.576754   69.844495   9.0   80.00  129.0  175.00  502.0\n",
      "23    456.0   89.508772   51.638004   4.0   52.75   80.0  123.00  256.0\n",
      "\n",
      "Durante las primeras horas del día entre las 8 y 9 parece existir una leve alza de alquileres al revisar el máximo de 596 y 839 bicicletas alquiladas.\n",
      "Pero en el rango de las 17 y 18 horas es evidente que se alquilan la mayor cantidad de bicicletas en promedio.\n",
      "Esto sugiere una posible correspondencia del aumento de alquileres con la hora de entrada y salida de los trabajadores.\n"
     ]
    }
   ],
   "source": [
    "# Celda 1.2\n",
    "bikes.groupby('hour').total.mean()\n",
    "\n",
    "print(bikes.groupby('hour').total.describe())\n",
    "\n",
    "print(\"\\nDurante las primeras horas del día entre las 8 y 9 parece existir una leve alza de alquileres al revisar el máximo de 596 y 839 bicicletas alquiladas.\")\n",
    "print(\"Pero en el rango de las 17 y 18 horas es evidente que se alquilan la mayor cantidad de bicicletas en promedio.\")\n",
    "\n",
    "\n",
    "print(\"Esto sugiere una posible correspondencia del aumento de alquileres con la hora de entrada y salida de los trabajadores.\")\n",
    "\n"
   ]
  },
  {
   "cell_type": "markdown",
   "metadata": {},
   "source": [
    "### Punto 2 - Análisis de gráficos\n",
    "\n",
    "Primero ejecute la celda 2.1 y asegúrese de comprender el código y el resultado. Luego, en cada una de celdas 2.2 y 2.3 escriba un código que genere una gráfica de las rentas promedio por hora cuando la variable \"workingday\" es igual a 0 e igual a 1, respectivamente. Analice y escriba sus hallazgos."
   ]
  },
  {
   "cell_type": "code",
   "execution_count": 26,
   "metadata": {},
   "outputs": [
    {
     "data": {
      "text/plain": [
       "<AxesSubplot:xlabel='hour'>"
      ]
     },
     "execution_count": 26,
     "metadata": {},
     "output_type": "execute_result"
    },
    {
     "data": {
      "image/png": "[encoded data removed]",
      "text/plain": [
       "<Figure size 432x288 with 1 Axes>"
      ]
     },
     "metadata": {
      "needs_background": "light"
     },
     "output_type": "display_data"
    }
   ],
   "source": [
    "# Celda 2.1 - rentas promedio para cada valor de la variable \"hour\"\n",
    "bikes.groupby('hour').total.mean().plot()"
   ]
  },
  {
   "cell_type": "code",
   "execution_count": 27,
   "metadata": {},
   "outputs": [
    {
     "name": "stdout",
     "output_type": "stream",
     "text": [
      "\n",
      "Es notorio que los fines de semana o feriados (workingdays==0) el alquiler de bicicleta sigue una distribución normal que aumenta desde la mañana hasta el atardecer y desciende durante las horas nocturnas\n",
      "Además el máximo de alquileres no sobrepasa en promedio las 400 bicicletas por hora.\n"
     ]
    },
    {
     "data": {
      "text/plain": [
       "<AxesSubplot:xlabel='hour'>"
      ]
     },
     "execution_count": 27,
     "metadata": {},
     "output_type": "execute_result"
    },
    {
     "data": {
      "image/png": "[encoded data removed]",
      "text/plain": [
       "<Figure size 432x288 with 1 Axes>"
      ]
     },
     "metadata": {
      "needs_background": "light"
     },
     "output_type": "display_data"
    }
   ],
   "source": [
    "# Celda 2.2 - \"workingday\"=0 escriba su código y hallazgos \n",
    "\n",
    "print(\"\\nEs notorio que los fines de semana o feriados (workingdays==0) el alquiler de bicicleta sigue una distribución normal que aumenta desde la mañana hasta el atardecer y desciende durante las horas nocturnas\")\n",
    "print(\"Además el máximo de alquileres no sobrepasa en promedio las 400 bicicletas por hora.\")\n",
    "\n",
    "bikes[bikes.workingday == 0].groupby('hour').total.mean().plot()"
   ]
  },
  {
   "cell_type": "code",
   "execution_count": 28,
   "metadata": {},
   "outputs": [
    {
     "name": "stdout",
     "output_type": "stream",
     "text": [
      "\n",
      "Se observa que en días laborales (workingday==1) la cantidad de bicicletas alquiladas son superiores en los rangos de la 8 a 9am y luego de las 17 a 18 horas.\n",
      "Esta distribución bimodal sugiere una correspondencia con el viaje de los trabajadores durante la semana laboral.\n",
      "Adicionalmente, es notorio que la cantidad promedio de bicicletas alquiladas, en comparación con los días feriados o no laborales (workingday==0), alcanza máximos superiores a las 400 bicicletas alquiladas.\n"
     ]
    },
    {
     "data": {
      "text/plain": [
       "<AxesSubplot:xlabel='hour'>"
      ]
     },
     "execution_count": 28,
     "metadata": {},
     "output_type": "execute_result"
    },
    {
     "data": {
      "image/png": "[encoded data removed]",
      "text/plain": [
       "<Figure size 432x288 with 1 Axes>"
      ]
     },
     "metadata": {
      "needs_background": "light"
     },
     "output_type": "display_data"
    }
   ],
   "source": [
    "# Celda 2.3 - \"workingday\"=1 escriba su código y hallazgos \n",
    "print('\\nSe observa que en días laborales (workingday==1) la cantidad de bicicletas alquiladas son superiores en los rangos de la 8 a 9am y luego de las 17 a 18 horas.')\n",
    "print('Esta distribución bimodal sugiere una correspondencia con el viaje de los trabajadores durante la semana laboral.')\n",
    "print('Adicionalmente, es notorio que la cantidad promedio de bicicletas alquiladas, en comparación con los días feriados o no laborales (workingday==0), alcanza máximos superiores a las 400 bicicletas alquiladas.')\n",
    "bikes[bikes.workingday == 1].groupby('hour').total.mean().plot()"
   ]
  },
  {
   "cell_type": "markdown",
   "metadata": {},
   "source": [
    "### Punto 3 - Regresión lineal\n",
    "En la celda 3 ajuste un modelo de regresión lineal a todo el conjunto de datos, utilizando \"total\" como variable de respuesta y \"hour\" y \"workingday\" como las únicas variables predictoras. Luego, imprima los coeficientes e interprételos. ¿Cuáles son las limitaciones de la regresión lineal en este caso?"
   ]
  },
  {
   "cell_type": "code",
   "execution_count": 29,
   "metadata": {},
   "outputs": [
    {
     "name": "stdout",
     "output_type": "stream",
     "text": [
      "MSE: 27541.255252498402\n",
      "Coeficientes del modelo:  [10.49206282  4.07248627]\n",
      "\n",
      "Por cada hora que transcurra se puede esperar que la cantidad de bicicletas alquiladas aumente un promedio de 10.49.\n",
      "Un aumento de la variable workingday significa un aumento promedio de 4.07 bicicletas alquiladas.\n",
      "\n",
      "La limintación de este modelo es que un aumento de hour o working no significa que una cause a la otra, por el contrario podría existir una relación o multicolinealidad entre ellas.\n",
      "Adicionalmente, este modelo aunque sea muy interpretable tiene poca flexibilidad, un mayor sesgo y al utilizar todo el conjunto de datos podría estar sobreajustado (overfittig)\n"
     ]
    }
   ],
   "source": [
    "# Celda 3\n",
    "from sklearn.linear_model import LinearRegression\n",
    "from sklearn.metrics import mean_squared_error\n",
    "X = bikes[['hour', 'workingday']]\n",
    "y = bikes.total\n",
    "\n",
    "modelo = LinearRegression()\n",
    "modelo.fit(X, y)\n",
    "\n",
    "mse_linearReg = mean_squared_error(modelo.predict(X), y)\n",
    "\n",
    "print(\"MSE:\", mse_linearReg)\n",
    "\n",
    "print(\"Coeficientes del modelo: \", modelo.coef_)\n",
    "\n",
    "print('\\nPor cada hora que transcurra se puede esperar que la cantidad de bicicletas alquiladas aumente un promedio de 10.49.')\n",
    "print('Un aumento de la variable workingday significa un aumento promedio de 4.07 bicicletas alquiladas.')\n",
    "print('\\nLa limintación de este modelo es que un aumento de hour o working no significa que una cause a la otra, por el contrario podría existir una relación o multicolinealidad entre ellas.')\n",
    "print('Adicionalmente, este modelo aunque sea muy interpretable tiene poca flexibilidad, un mayor sesgo y al utilizar todo el conjunto de datos podría estar sobreajustado (overfittig)')\n",
    "\n"
   ]
  },
  {
   "cell_type": "markdown",
   "metadata": {},
   "source": [
    "### Punto 4 - Árbol de decisión manual\n",
    "En la celda 4 cree un árbol de decisiones para pronosticar la variable \"total\" iterando **manualmente** sobre las variables \"hour\" y  \"workingday\". El árbol debe tener al menos 6 nodos finales."
   ]
  },
  {
   "cell_type": "code",
   "execution_count": 30,
   "metadata": {},
   "outputs": [
    {
     "name": "stdout",
     "output_type": "stream",
     "text": [
      "\n",
      "*** A continuación se muestra el árbol con 8 nodos finales generados: \n",
      "\n"
     ]
    },
    {
     "data": {
      "text/plain": [
       "{'y_pred': 1,\n",
       " 'level': 0,\n",
       " 'split': [0, 8.0],\n",
       " 'n_samples': 10886,\n",
       " 'mse': 23675.892974467803,\n",
       " 'esHoja': 0,\n",
       " 'sl': {'y_pred': 1,\n",
       "  'level': 1,\n",
       "  'split': [0, 7.0],\n",
       "  'n_samples': 3594,\n",
       "  'mse': 4569.219380357904,\n",
       "  'esHoja': 0,\n",
       "  'sl': {'y_pred': 1,\n",
       "   'level': 2,\n",
       "   'split': [0, 6.0],\n",
       "   'n_samples': 3139,\n",
       "   'mse': 1242.1585299291157,\n",
       "   'esHoja': 0,\n",
       "   'sl': {'y_pred': 1,\n",
       "    'level': 3,\n",
       "    'split': -1,\n",
       "    'n_samples': 2684,\n",
       "    'mse': 754.3758482230128,\n",
       "    'esHoja': 1},\n",
       "   'sr': {'y_pred': 1,\n",
       "    'level': 3,\n",
       "    'split': -1,\n",
       "    'n_samples': 455,\n",
       "    'mse': 1509.6453517339176,\n",
       "    'esHoja': 1}},\n",
       "  'sr': {'y_pred': 1,\n",
       "   'level': 2,\n",
       "   'split': [1, 1.0],\n",
       "   'n_samples': 455,\n",
       "   'mse': 12425.746772115546,\n",
       "   'esHoja': 0,\n",
       "   'sl': {'y_pred': 1,\n",
       "    'level': 3,\n",
       "    'split': -1,\n",
       "    'n_samples': 145,\n",
       "    'mse': 0,\n",
       "    'esHoja': 1},\n",
       "   'sr': {'y_pred': 1,\n",
       "    'level': 3,\n",
       "    'split': -1,\n",
       "    'n_samples': 310,\n",
       "    'mse': 0,\n",
       "    'esHoja': 1}}},\n",
       " 'sr': {'y_pred': 1,\n",
       "  'level': 1,\n",
       "  'split': [0, 21.0],\n",
       "  'n_samples': 7292,\n",
       "  'mse': 27620.291987504796,\n",
       "  'esHoja': 0,\n",
       "  'sl': {'y_pred': 1,\n",
       "   'level': 2,\n",
       "   'split': [0, 16.0],\n",
       "   'n_samples': 5924,\n",
       "   'mse': 29989.855382267084,\n",
       "   'esHoja': 0,\n",
       "   'sl': {'y_pred': 1,\n",
       "    'level': 3,\n",
       "    'split': -1,\n",
       "    'n_samples': 3644,\n",
       "    'mse': 22452.12068250157,\n",
       "    'esHoja': 1},\n",
       "   'sr': {'y_pred': 1,\n",
       "    'level': 3,\n",
       "    'split': -1,\n",
       "    'n_samples': 2280,\n",
       "    'mse': 34749.71367648381,\n",
       "    'esHoja': 1}},\n",
       "  'sr': {'y_pred': 1,\n",
       "   'level': 2,\n",
       "   'split': [0, 23.0],\n",
       "   'n_samples': 1368,\n",
       "   'mse': 5327.341617933728,\n",
       "   'esHoja': 0,\n",
       "   'sl': {'y_pred': 1,\n",
       "    'level': 3,\n",
       "    'split': -1,\n",
       "    'n_samples': 912,\n",
       "    'mse': 6264.806666474296,\n",
       "    'esHoja': 1},\n",
       "   'sr': {'y_pred': 1,\n",
       "    'level': 3,\n",
       "    'split': -1,\n",
       "    'n_samples': 456,\n",
       "    'mse': 2660.0736620351195,\n",
       "    'esHoja': 1}}}}"
      ]
     },
     "execution_count": 30,
     "metadata": {},
     "output_type": "execute_result"
    }
   ],
   "source": [
    "# Celda 4\n",
    "\n",
    "# Definición de la función que calcula el mse que se usa para particionar\n",
    "def mse(y):\n",
    "    #print(y.mean())\n",
    "    return ((y - y.mean())**2).mean()\n",
    "    \n",
    "# Definición de una función costo del split\n",
    "def eval_mse_split(X_col, y, split):    \n",
    "    filter_l = X_col < split\n",
    "    y_l = y.loc[filter_l]\n",
    "    y_r = y.loc[~filter_l]\n",
    "    \n",
    "    n_l = y_l.shape[0]\n",
    "    n_r = y_r.shape[0]\n",
    "    \n",
    "    mse_l = mse(y_l)\n",
    "    mse_r = mse(y_r)\n",
    "    \n",
    "    dispersionPromedio_l = mse_l * (n_l / (n_l + n_r) )\n",
    "    dispersionPromedio_r = mse_r * (n_r / (n_l + n_r) )\n",
    "    \n",
    "    split_mse =  dispersionPromedio_l + dispersionPromedio_r\n",
    "    \n",
    "    return split_mse\n",
    "\n",
    "\n",
    "# Definición de la función best_split para calcular cuál es la mejor variable y punto de cortepara hacer la bifurcación del árbol\n",
    "def bestMSE_split(X, y, num_pct=10):\n",
    "    \n",
    "    features = range(X.shape[1])    \n",
    "    \n",
    "    best_split = [0, 0, 0]  # j, split, mse\n",
    "    inicia = 1        \n",
    "    \n",
    "    # Para todas las varibles \n",
    "    for j in features:                \n",
    "        splits = np.percentile(X.iloc[:, j], np.arange(0, 100, 100.0 / (num_pct+1)).tolist())\n",
    "        splits = np.unique(splits)[1:]\n",
    "        #print(splits)\n",
    "        \n",
    "        # Para cada partición se calcula su costo (mse) con el fin de identificar la de menor costo.\n",
    "        for split in splits:\n",
    "            mse_split = eval_mse_split(X.iloc[:, j], y, split)\n",
    "            #print(split, mse_split)\n",
    "               \n",
    "            if inicia == 0:                         \n",
    "                if mse_split < best_split[2]:\n",
    "                    best_split = [j, split, mse_split]\n",
    "            else: best_split = [j, split, mse_split]\n",
    "            inicia = 0\n",
    "                \n",
    "        #print('mejor split del feature', j, ':' , best_split)    \n",
    "    return best_split\n",
    "\n",
    "# Definición de la función tree_grow para hacer un crecimiento recursivo del árbol\n",
    "def tree_grow(X, y, level=0, max_depth=None, num_pct=10):\n",
    "    \n",
    "    # Si solo es una observación\n",
    "    if X.shape[0] == 1:\n",
    "        tree = dict(y_pred=y.iloc[:1].values[0], level=level, split=-1, n_samples=1, mse=0, esHoja=1)\n",
    "        return tree\n",
    "    \n",
    "    # Calcular la mejor división\n",
    "    j, split, mse = bestMSE_split(X, y, num_pct)\n",
    "    \n",
    "    # Guardar el árbol y estimar la predicción\n",
    "    y_pred = int(y.mean() >= 0.5) \n",
    "    y_prob = (y.sum() + 1.0) / (y.shape[0] + 2.0)  # Corrección Laplace \n",
    "    \n",
    "    tree = dict(y_pred=y_pred, level=level, split=-1, n_samples=X.shape[0], mse=mse, esHoja=0)\n",
    "\n",
    "    if max_depth is not None:\n",
    "        if level >= max_depth:\n",
    "            tree['esHoja']=1\n",
    "            return tree   \n",
    "    \n",
    "    # Continuar creando la partición\n",
    "    filter_l = X.iloc[:, j] < split\n",
    "    X_l, y_l = X.loc[filter_l], y.loc[filter_l]\n",
    "    X_r, y_r = X.loc[~filter_l], y.loc[~filter_l]\n",
    "    tree['split'] = [j, split]\n",
    "\n",
    "    # Siguiente iteración para cada partición\n",
    "    \n",
    "    tree['sl'] = tree_grow(X_l, y_l, level + 1,  max_depth=max_depth, num_pct=num_pct)\n",
    "    tree['sr'] = tree_grow(X_r, y_r, level + 1,  max_depth=max_depth, num_pct=num_pct)\n",
    "    \n",
    "    return tree\n",
    "#\n",
    "X = bikes[['hour', 'workingday']]\n",
    "y = bikes.total\n",
    "\n",
    "arbol = tree_grow(X, y, level=0, max_depth=3, num_pct=10)\n",
    "\n",
    "print('\\n*** A continuación se muestra el árbol con 8 nodos finales generados: \\n')\n",
    "\n",
    "arbol\n",
    "\n"
   ]
  },
  {
   "cell_type": "markdown",
   "metadata": {},
   "source": [
    "### Punto 5 - Árbol de decisión con librería\n",
    "En la celda 5 entrene un árbol de decisiones con la **librería sklearn**, usando las variables predictoras \"hour\" y \"workingday\" y calibre los parámetros que considere conveniente para obtener un mejor desempeño. Comente el desempeño del modelo con alguna métrica de desempeño de modelos de clasificación y compare desempeño con el modelo del punto 3."
   ]
  },
  {
   "cell_type": "code",
   "execution_count": 31,
   "metadata": {},
   "outputs": [
    {
     "name": "stdout",
     "output_type": "stream",
     "text": [
      "Mejor desempeño y profundidad: (13143.121883295113, 10)\n",
      "MSE: 11329.31152387664\n",
      "Este modelo tiene mayor poder predictivo.  El MSE de 11329.31 es mucho menor al 27541.26 elaborado en el punto 3.\n"
     ]
    },
    {
     "data": {
      "image/png": "[encoded data removed]",
      "text/plain": [
       "<Figure size 432x288 with 1 Axes>"
      ]
     },
     "metadata": {
      "needs_background": "light"
     },
     "output_type": "display_data"
    }
   ],
   "source": [
    "# Celda 5\n",
    "%matplotlib inline\n",
    "import matplotlib.pyplot as plt\n",
    "# Lista de valores para calibrar el criterio de parada de máxima profundidad (max_depth)\n",
    "max_depth_range = range(1, 21)\n",
    "\n",
    "# Lista para guardar los valores\n",
    "scores = []\n",
    "\n",
    "X = bikes[['hour', 'workingday']]\n",
    "y = bikes.total\n",
    "\n",
    "# Importación de modelos de sklearn \n",
    "from sklearn.model_selection import cross_val_score\n",
    "from sklearn.tree import DecisionTreeRegressor\n",
    "\n",
    "# Loop para obtener el desempeño del modelo de acuerdo con la máxima profundidad\n",
    "for depth in max_depth_range:\n",
    "    # Definición del árbol de decisión\n",
    "    modelo = DecisionTreeRegressor(max_depth=depth, random_state=1)\n",
    "    scores.append(-cross_val_score(modelo, X, y, cv=10, scoring='neg_mean_squared_error').mean())   \n",
    "    \n",
    "plt.plot(max_depth_range, scores)\n",
    "plt.xlabel('max_depth')\n",
    "plt.ylabel('Accuracy')\n",
    "\n",
    "max_depth_ = sorted(zip(scores, max_depth_range))[::-1][-1][1]\n",
    "\n",
    "print(\"Mejor desempeño y profundidad:\", sorted(zip(scores, max_depth_range))[::-1][-1])\n",
    "\n",
    "# se crea el arbol de decision con el max_depth_\n",
    "reg = DecisionTreeRegressor(max_depth=max_depth_, random_state=1)\n",
    "reg.fit(X, y)\n",
    "\n",
    "mse = mean_squared_error( y, reg.predict(X))\n",
    "print(\"MSE:\", mse )\n",
    "\n",
    "print('Este modelo tiene mayor poder predictivo.  El MSE de {:.2f} es mucho menor al {:.2f} elaborado en el punto 3.'.format(mse, mse_linearReg))\n"
   ]
  },
  {
   "cell_type": "markdown",
   "metadata": {},
   "source": [
    "## Parte B - Métodos de ensamblajes\n",
    "En esta parte del taller se usará el conjunto de datos de Popularidad de Noticias Online. El objetivo es predecir la cantidad de reacciones en redes sociales (popularidad) de la notica. Para más detalles puede visitar el sigueinte enlace: [datos](https://archive.ics.uci.edu/ml/datasets/online+news+popularity)."
   ]
  },
  {
   "cell_type": "markdown",
   "metadata": {},
   "source": [
    "### Datos popularidad de noticias"
   ]
  },
  {
   "cell_type": "code",
   "execution_count": 32,
   "metadata": {},
   "outputs": [
    {
     "data": {
      "text/html": [
       "<div>\n",
       "<style scoped>\n",
       "    .dataframe tbody tr th:only-of-type {\n",
       "        vertical-align: middle;\n",
       "    }\n",
       "\n",
       "    .dataframe tbody tr th {\n",
       "        vertical-align: top;\n",
       "    }\n",
       "\n",
       "    .dataframe thead th {\n",
       "        text-align: right;\n",
       "    }\n",
       "</style>\n",
       "<table border=\"1\" class=\"dataframe\">\n",
       "  <thead>\n",
       "    <tr style=\"text-align: right;\">\n",
       "      <th></th>\n",
       "      <th>url</th>\n",
       "      <th>timedelta</th>\n",
       "      <th>n_tokens_title</th>\n",
       "      <th>n_tokens_content</th>\n",
       "      <th>n_unique_tokens</th>\n",
       "      <th>n_non_stop_words</th>\n",
       "      <th>n_non_stop_unique_tokens</th>\n",
       "      <th>num_hrefs</th>\n",
       "      <th>num_self_hrefs</th>\n",
       "      <th>num_imgs</th>\n",
       "      <th>...</th>\n",
       "      <th>min_positive_polarity</th>\n",
       "      <th>max_positive_polarity</th>\n",
       "      <th>avg_negative_polarity</th>\n",
       "      <th>min_negative_polarity</th>\n",
       "      <th>max_negative_polarity</th>\n",
       "      <th>title_subjectivity</th>\n",
       "      <th>title_sentiment_polarity</th>\n",
       "      <th>abs_title_subjectivity</th>\n",
       "      <th>abs_title_sentiment_polarity</th>\n",
       "      <th>Popular</th>\n",
       "    </tr>\n",
       "  </thead>\n",
       "  <tbody>\n",
       "    <tr>\n",
       "      <th>0</th>\n",
       "      <td>http://mashable.com/2014/12/10/cia-torture-rep...</td>\n",
       "      <td>28.0</td>\n",
       "      <td>9.0</td>\n",
       "      <td>188.0</td>\n",
       "      <td>0.732620</td>\n",
       "      <td>1.0</td>\n",
       "      <td>0.844262</td>\n",
       "      <td>5.0</td>\n",
       "      <td>1.0</td>\n",
       "      <td>1.0</td>\n",
       "      <td>...</td>\n",
       "      <td>0.200000</td>\n",
       "      <td>0.80</td>\n",
       "      <td>-0.487500</td>\n",
       "      <td>-0.60</td>\n",
       "      <td>-0.250000</td>\n",
       "      <td>0.9</td>\n",
       "      <td>0.8</td>\n",
       "      <td>0.4</td>\n",
       "      <td>0.8</td>\n",
       "      <td>1</td>\n",
       "    </tr>\n",
       "    <tr>\n",
       "      <th>1</th>\n",
       "      <td>http://mashable.com/2013/10/18/bitlock-kicksta...</td>\n",
       "      <td>447.0</td>\n",
       "      <td>7.0</td>\n",
       "      <td>297.0</td>\n",
       "      <td>0.653199</td>\n",
       "      <td>1.0</td>\n",
       "      <td>0.815789</td>\n",
       "      <td>9.0</td>\n",
       "      <td>4.0</td>\n",
       "      <td>1.0</td>\n",
       "      <td>...</td>\n",
       "      <td>0.160000</td>\n",
       "      <td>0.50</td>\n",
       "      <td>-0.135340</td>\n",
       "      <td>-0.40</td>\n",
       "      <td>-0.050000</td>\n",
       "      <td>0.1</td>\n",
       "      <td>-0.1</td>\n",
       "      <td>0.4</td>\n",
       "      <td>0.1</td>\n",
       "      <td>0</td>\n",
       "    </tr>\n",
       "    <tr>\n",
       "      <th>2</th>\n",
       "      <td>http://mashable.com/2013/07/24/google-glass-po...</td>\n",
       "      <td>533.0</td>\n",
       "      <td>11.0</td>\n",
       "      <td>181.0</td>\n",
       "      <td>0.660377</td>\n",
       "      <td>1.0</td>\n",
       "      <td>0.775701</td>\n",
       "      <td>4.0</td>\n",
       "      <td>3.0</td>\n",
       "      <td>1.0</td>\n",
       "      <td>...</td>\n",
       "      <td>0.136364</td>\n",
       "      <td>1.00</td>\n",
       "      <td>0.000000</td>\n",
       "      <td>0.00</td>\n",
       "      <td>0.000000</td>\n",
       "      <td>0.3</td>\n",
       "      <td>1.0</td>\n",
       "      <td>0.2</td>\n",
       "      <td>1.0</td>\n",
       "      <td>0</td>\n",
       "    </tr>\n",
       "    <tr>\n",
       "      <th>3</th>\n",
       "      <td>http://mashable.com/2013/11/21/these-are-the-m...</td>\n",
       "      <td>413.0</td>\n",
       "      <td>12.0</td>\n",
       "      <td>781.0</td>\n",
       "      <td>0.497409</td>\n",
       "      <td>1.0</td>\n",
       "      <td>0.677350</td>\n",
       "      <td>10.0</td>\n",
       "      <td>3.0</td>\n",
       "      <td>1.0</td>\n",
       "      <td>...</td>\n",
       "      <td>0.100000</td>\n",
       "      <td>1.00</td>\n",
       "      <td>-0.195701</td>\n",
       "      <td>-0.40</td>\n",
       "      <td>-0.071429</td>\n",
       "      <td>0.0</td>\n",
       "      <td>0.0</td>\n",
       "      <td>0.5</td>\n",
       "      <td>0.0</td>\n",
       "      <td>0</td>\n",
       "    </tr>\n",
       "    <tr>\n",
       "      <th>4</th>\n",
       "      <td>http://mashable.com/2014/02/11/parking-ticket-...</td>\n",
       "      <td>331.0</td>\n",
       "      <td>8.0</td>\n",
       "      <td>177.0</td>\n",
       "      <td>0.685714</td>\n",
       "      <td>1.0</td>\n",
       "      <td>0.830357</td>\n",
       "      <td>3.0</td>\n",
       "      <td>2.0</td>\n",
       "      <td>1.0</td>\n",
       "      <td>...</td>\n",
       "      <td>0.100000</td>\n",
       "      <td>0.55</td>\n",
       "      <td>-0.175000</td>\n",
       "      <td>-0.25</td>\n",
       "      <td>-0.100000</td>\n",
       "      <td>0.0</td>\n",
       "      <td>0.0</td>\n",
       "      <td>0.5</td>\n",
       "      <td>0.0</td>\n",
       "      <td>0</td>\n",
       "    </tr>\n",
       "  </tbody>\n",
       "</table>\n",
       "<p>5 rows × 61 columns</p>\n",
       "</div>"
      ],
      "text/plain": [
       "                                                 url  timedelta  \\\n",
       "0  http://mashable.com/2014/12/10/cia-torture-rep...       28.0   \n",
       "1  http://mashable.com/2013/10/18/bitlock-kicksta...      447.0   \n",
       "2  http://mashable.com/2013/07/24/google-glass-po...      533.0   \n",
       "3  http://mashable.com/2013/11/21/these-are-the-m...      413.0   \n",
       "4  http://mashable.com/2014/02/11/parking-ticket-...      331.0   \n",
       "\n",
       "   n_tokens_title  n_tokens_content  n_unique_tokens  n_non_stop_words  \\\n",
       "0             9.0             188.0         0.732620               1.0   \n",
       "1             7.0             297.0         0.653199               1.0   \n",
       "2            11.0             181.0         0.660377               1.0   \n",
       "3            12.0             781.0         0.497409               1.0   \n",
       "4             8.0             177.0         0.685714               1.0   \n",
       "\n",
       "   n_non_stop_unique_tokens  num_hrefs  num_self_hrefs  num_imgs  ...  \\\n",
       "0                  0.844262        5.0             1.0       1.0  ...   \n",
       "1                  0.815789        9.0             4.0       1.0  ...   \n",
       "2                  0.775701        4.0             3.0       1.0  ...   \n",
       "3                  0.677350       10.0             3.0       1.0  ...   \n",
       "4                  0.830357        3.0             2.0       1.0  ...   \n",
       "\n",
       "   min_positive_polarity  max_positive_polarity  avg_negative_polarity  \\\n",
       "0               0.200000                   0.80              -0.487500   \n",
       "1               0.160000                   0.50              -0.135340   \n",
       "2               0.136364                   1.00               0.000000   \n",
       "3               0.100000                   1.00              -0.195701   \n",
       "4               0.100000                   0.55              -0.175000   \n",
       "\n",
       "   min_negative_polarity  max_negative_polarity  title_subjectivity  \\\n",
       "0                  -0.60              -0.250000                 0.9   \n",
       "1                  -0.40              -0.050000                 0.1   \n",
       "2                   0.00               0.000000                 0.3   \n",
       "3                  -0.40              -0.071429                 0.0   \n",
       "4                  -0.25              -0.100000                 0.0   \n",
       "\n",
       "   title_sentiment_polarity  abs_title_subjectivity  \\\n",
       "0                       0.8                     0.4   \n",
       "1                      -0.1                     0.4   \n",
       "2                       1.0                     0.2   \n",
       "3                       0.0                     0.5   \n",
       "4                       0.0                     0.5   \n",
       "\n",
       "   abs_title_sentiment_polarity  Popular  \n",
       "0                           0.8        1  \n",
       "1                           0.1        0  \n",
       "2                           1.0        0  \n",
       "3                           0.0        0  \n",
       "4                           0.0        0  \n",
       "\n",
       "[5 rows x 61 columns]"
      ]
     },
     "execution_count": 32,
     "metadata": {},
     "output_type": "execute_result"
    }
   ],
   "source": [
    "# Lectura de la información de archivo .csv\n",
    "df = pd.read_csv('https://raw.githubusercontent.com/albahnsen/MIAD_ML_and_NLP/main/datasets/mashable.csv', index_col=0)\n",
    "df.head()"
   ]
  },
  {
   "cell_type": "code",
   "execution_count": 33,
   "metadata": {},
   "outputs": [
    {
     "data": {
      "text/plain": [
       "0.5"
      ]
     },
     "execution_count": 33,
     "metadata": {},
     "output_type": "execute_result"
    }
   ],
   "source": [
    "# Definición variable de interes y variables predictoras\n",
    "X = df.drop(['url', 'Popular'], axis=1)\n",
    "y = df['Popular']\n",
    "y.mean()"
   ]
  },
  {
   "cell_type": "code",
   "execution_count": 34,
   "metadata": {},
   "outputs": [],
   "source": [
    "# División de la muestra en set de entrenamiento y prueba\n",
    "from sklearn.model_selection import train_test_split\n",
    "X_train, X_test, y_train, y_test = train_test_split(X, y, random_state=1)\n"
   ]
  },
  {
   "cell_type": "markdown",
   "metadata": {},
   "source": [
    "### Punto 6 - Árbol de decisión y regresión logística\n",
    "En la celda 6 construya un árbol de decisión y una regresión logística. Para el árbol calibre al menos un parámetro y evalúe el desempeño de cada modelo usando las métricas de Accuracy y F1-Score."
   ]
  },
  {
   "cell_type": "code",
   "execution_count": 35,
   "metadata": {},
   "outputs": [
    {
     "name": "stdout",
     "output_type": "stream",
     "text": [
      "Para el Arbol de Decisión el mejor desempeño se encontró con un profundidad == 2 :\n",
      "\n",
      "\t\tRegresión logística \tArbol de Decisión\n",
      "Accuracy \t 0.6127 \t\t 0.6453\n",
      "F1-Score \t 0.6093 \t\t 0.6449\n"
     ]
    }
   ],
   "source": [
    "# Celda 6\n",
    "from sklearn.linear_model import LogisticRegression\n",
    "from sklearn.tree import DecisionTreeClassifier\n",
    "from sklearn.model_selection import cross_val_score\n",
    "from sklearn import metrics\n",
    "\n",
    "lr =  LogisticRegression(random_state=0).fit(X_train, y_train)\n",
    "\n",
    "prediccionesLR=lr.predict(X_test)\n",
    "\n",
    "accuracyLR = metrics.accuracy_score(y_test, prediccionesLR)\n",
    "f1LR = metrics.f1_score(y_test, prediccionesLR)\n",
    "\n",
    "max_depth_range = range(1, 21)\n",
    "scores = []\n",
    "\n",
    "# Loop para obtener el desempeño del modelo de acuerdo con la máxima profundidad\n",
    "for depth in max_depth_range:\n",
    "    clasif = DecisionTreeClassifier(max_depth=depth, random_state=1)\n",
    "    scores.append(cross_val_score(clasif, X_train, y_train, cv=10, scoring='accuracy').mean())\n",
    "    \n",
    "max_depth_ = sorted(zip(scores, max_depth_range))[::-1][0][1]\n",
    "\n",
    "print(\"Para el Arbol de Decisión el mejor desempeño se encontró con un profundidad == {0} :\".format(max_depth_))\n",
    "\n",
    "# se crea el arbol de decision con el max_depth_ calibrado\n",
    "dt = DecisionTreeClassifier(max_depth=max_depth_, random_state=1).fit(X_train, y_train)\n",
    "\n",
    "prediccionesDT=dt.predict(X_test)\n",
    "accuracyDT = metrics.accuracy_score(y_test, prediccionesDT)\n",
    "f1DT = metrics.f1_score(y_test, prediccionesDT)\n",
    "\n",
    "print('\\n\\t\\tRegresión logística', '\\tArbol de Decisión')\n",
    "print('Accuracy', '\\t', '{:.4f}'.format(accuracyLR), '\\t\\t', '{:.4f}'.format(accuracyDT))\n",
    "print('F1-Score', '\\t', '{:.4f}'.format(f1LR), '\\t\\t', '{:.4f}'.format(f1DT))"
   ]
  },
  {
   "cell_type": "markdown",
   "metadata": {},
   "source": [
    "### Punto 7 - Votación Mayoritaria\n",
    "En la celda 7 elabore un esamble con la metodología de **Votación mayoritaria** compuesto por 300 muestras bagged para cada uno de los siguientes escenarios:\n",
    "\n",
    "-100 árboles de decisión donde max_depth = None\\\n",
    "-100 árboles de decisión donde max_depth = 2\\\n",
    "-100 regresiones logísticas\n",
    "\n",
    "Evalúe los modelos utilizando las métricas de Accuracy y F1-Score."
   ]
  },
  {
   "cell_type": "code",
   "execution_count": 36,
   "metadata": {},
   "outputs": [
    {
     "name": "stdout",
     "output_type": "stream",
     "text": [
      "\n",
      "\t\tRegresión \tArbolDecisión \t \tArbolDecisión\n",
      "\t\tlogística \t(maxDepth=None) \t (maxDepth=2)\n",
      "Accuracy \t 0.6187 \t 0.6613 \t\t 0.6453\n",
      "F1-Score \t 0.6135 \t 0.6568 \t\t 0.6316\n"
     ]
    }
   ],
   "source": [
    "# Celda 7\n",
    "from sklearn.ensemble import BaggingClassifier\n",
    "\n",
    "n_estimators  = 100\n",
    "max_samples = 300\n",
    "# arbol con max_depth = None\n",
    "dt_None = BaggingClassifier(base_estimator=DecisionTreeClassifier(max_depth=None), n_estimators=n_estimators, bootstrap=True,\n",
    "                            random_state=42, n_jobs=-1, oob_score=True, max_samples=max_samples).fit(X_train, y_train)\n",
    "y_pred_None = dt_None.predict(X_test)\n",
    "f1DT_None, accuracyDT_None = metrics.f1_score(y_pred_None, y_test), metrics.accuracy_score(y_pred_None, y_test)\n",
    "\n",
    "# arbol max_depth = 2\n",
    "dt_2 = BaggingClassifier(base_estimator=DecisionTreeClassifier(max_depth=2), n_estimators=n_estimators, bootstrap=True,\n",
    "                            random_state=42, n_jobs=-1, oob_score=True, max_samples=max_samples).fit(X_train, y_train)\n",
    "y_pred_2 = dt_2.predict(X_test)\n",
    "f1DT_2, accuracyDT_2 = metrics.f1_score(y_pred_2, y_test), metrics.accuracy_score(y_pred_2, y_test)\n",
    "\n",
    "# regresion logistica\n",
    "regLog = BaggingClassifier(base_estimator=LogisticRegression(), n_estimators=n_estimators, bootstrap=True,\n",
    "                            random_state=42, n_jobs=-1, oob_score=True, max_samples=max_samples).fit(X_train, y_train)\n",
    "y_pred_regLog = regLog.predict(X_test)\n",
    "f1_RegLog, accuracy_RegLog = metrics.f1_score(y_pred_regLog, y_test), metrics.accuracy_score(y_pred_regLog, y_test)\n",
    "\n",
    "print('\\n\\t\\tRegresión', '\\tArbolDecisión', '\\t', '\\tArbolDecisión')\n",
    "print('\\t\\tlogística', '\\t(maxDepth=None)', '\\t', '(maxDepth=2)')\n",
    "print('Accuracy', '\\t', '{:.4f}'.format(accuracy_RegLog), '\\t', '{:.4f}'.format(accuracyDT_None), '\\t\\t', '{:.4f}'.format(accuracyDT_2))\n",
    "print('F1-Score', '\\t', '{:.4f}'.format(f1_RegLog), '\\t', '{:.4f}'.format(f1DT_None), '\\t\\t', '{:.4f}'.format(f1DT_2))"
   ]
  },
  {
   "cell_type": "markdown",
   "metadata": {},
   "source": [
    "### Punto 8 - Votación Ponderada\n",
    "En la celda 8 elabore un ensamble con la metodología de **Votación ponderada** compuesto por 300 muestras bagged para los mismos tres escenarios del punto 7. Evalúe los modelos utilizando las métricas de Accuracy y F1-Score"
   ]
  },
  {
   "cell_type": "code",
   "execution_count": 37,
   "metadata": {},
   "outputs": [
    {
     "name": "stdout",
     "output_type": "stream",
     "text": [
      "\n",
      "\t\tRegresión \tArbolDecisión \t \tArbolDecisión\n",
      "\t\tlogística \t(maxDepth=None) \t (maxDepth=2)\n",
      "Accuracy \t 0.6193 \t 0.6633 \t\t 0.6467\n",
      "F1-Score \t 0.6150 \t 0.6631 \t\t 0.6325\n"
     ]
    }
   ],
   "source": [
    "# Celda 8\n",
    "from sklearn.ensemble import BaggingClassifier\n",
    "\n",
    "def prediccionPonderada(X_test, clf):\n",
    "    # Obtención de los pesos alpha de cada modelo de acuerdo al error OOB\n",
    "    errors = np.zeros(clf.n_estimators)\n",
    "    y_pred_all_ = np.zeros((X_test.shape[0], clf.n_estimators))\n",
    "\n",
    "    for i in range(clf.n_estimators):\n",
    "        oob_sample = ~clf.estimators_samples_[i]\n",
    "        y_pred_ = clf.estimators_[i].predict(X_train.values[oob_sample])\n",
    "        errors[i] = metrics.accuracy_score(y_pred_, y_train.values[oob_sample])\n",
    "        y_pred_all_[:, i] = clf.estimators_[i].predict(X_test)\n",
    "        \n",
    "    alpha = (1 - errors) / (1 - errors).sum()\n",
    "    y_pred = (np.sum(y_pred_all_ * alpha, axis=1) >= 0.5).astype(np.int)    \n",
    "    \n",
    "    return y_pred\n",
    "\n",
    "n_estimators  = 100\n",
    "max_samples = 300\n",
    "\n",
    "# arbol con max_depth = None\n",
    "dt_None = BaggingClassifier(base_estimator=DecisionTreeClassifier(max_depth=None), n_estimators=n_estimators, bootstrap=True,\n",
    "                            random_state=42, n_jobs=-1, oob_score=True, max_samples=max_samples).fit(X_train, y_train)\n",
    "y_pred_None = prediccionPonderada(X_test, dt_None)\n",
    "pf1DT_None, paccuracyDT_None = metrics.f1_score(y_pred_None, y_test), metrics.accuracy_score(y_pred_None, y_test)\n",
    "\n",
    "# arbol max_depth = 2\n",
    "dt_2 = BaggingClassifier(base_estimator=DecisionTreeClassifier(max_depth=2), n_estimators=n_estimators, bootstrap=True,\n",
    "                            random_state=42, n_jobs=-1, oob_score=True, max_samples=max_samples).fit(X_train, y_train)\n",
    "y_pred_2 = prediccionPonderada(X_test, dt_2)\n",
    "pf1DT_2, paccuracyDT_2 = metrics.f1_score(y_pred_2, y_test), metrics.accuracy_score(y_pred_2, y_test)\n",
    "\n",
    "# regresion logistica\n",
    "regLog = BaggingClassifier(base_estimator=LogisticRegression(), n_estimators=n_estimators, bootstrap=True,\n",
    "                            random_state=42, n_jobs=-1, oob_score=True, max_samples=max_samples).fit(X_train, y_train)\n",
    "y_pred_regLog = prediccionPonderada(X_test, regLog)\n",
    "pf1_RegLog, paccuracy_RegLog = metrics.f1_score(y_pred_regLog, y_test), metrics.accuracy_score(y_pred_regLog, y_test)\n",
    "\n",
    "print('\\n\\t\\tRegresión', '\\tArbolDecisión', '\\t', '\\tArbolDecisión')\n",
    "print('\\t\\tlogística', '\\t(maxDepth=None)', '\\t', '(maxDepth=2)')\n",
    "print('Accuracy', '\\t', '{:.4f}'.format(paccuracy_RegLog), '\\t', '{:.4f}'.format(paccuracyDT_None), '\\t\\t', '{:.4f}'.format(paccuracyDT_2))\n",
    "print('F1-Score', '\\t', '{:.4f}'.format(pf1_RegLog), '\\t', '{:.4f}'.format(pf1DT_None), '\\t\\t', '{:.4f}'.format(pf1DT_2))\n"
   ]
  },
  {
   "cell_type": "markdown",
   "metadata": {},
   "source": [
    "### Punto 9 - Comparación y análisis de resultados\n",
    "En la celda 9 comente sobre los resultados obtenidos con las metodologías usadas en los puntos 7 y 8, compare los resultados y enuncie posibles ventajas o desventajas de cada una de ellas."
   ]
  },
  {
   "cell_type": "code",
   "execution_count": 38,
   "metadata": {},
   "outputs": [
    {
     "name": "stdout",
     "output_type": "stream",
     "text": [
      "\n",
      "\t\t\tRegresión \tArbolDecisión \t \tArbolDecisión\n",
      "\t\t\tlogística \t(maxDepth=None) \t (maxDepth=2)\n",
      "Accuracy (mayoritaria) \t 0.6187 \t 0.6613 \t\t 0.6453\n",
      "Accuracy (ponderada) \t 0.6193 \t 0.6633 \t\t 0.6467\n",
      "F1-Score (mayoritaria \t 0.6135 \t 0.6568 \t\t 0.6316\n",
      "F1-Score (ponderada) \t 0.6150 \t 0.6631 \t\t 0.6325\n",
      "\n",
      "\n",
      "El clasificador con menor poder predictivo, sin importar el mecanismo de votación utilizado, es la Regresión Logística.\n",
      "Es evidente que el ensamblaje con votación ponderada favorece en cualquiera de los 3 escenarios.\n",
      "Por el tiempo de ejecución se comprueba que se requiere mayor poder de cómputo para implementar la votación ponderada de los clasificadores.\n",
      "Tanto la métrica de accuracy como F1-Score es mejor si se utiliza votación ponderada en todos los clasificadores.\n",
      "El mejor rendimiento, acurracy = 0.6633, se obtiene con la votación ponderada para el arbol de decisión con maxDepth=None.\n",
      "Por lo tanto, el arbol de decisión con maxDepth=None y un ensamblaje con votación ponderada sería el clasificador con mayor poder predictivo.\n",
      "\n"
     ]
    }
   ],
   "source": [
    "# Celda 9\n",
    "print('\\n\\t\\t\\tRegresión', '\\tArbolDecisión', '\\t', '\\tArbolDecisión')\n",
    "print('\\t\\t\\tlogística', '\\t(maxDepth=None)', '\\t', '(maxDepth=2)')\n",
    "print('Accuracy (mayoritaria)', '\\t', '{:.4f}'.format(accuracy_RegLog), '\\t', '{:.4f}'.format(accuracyDT_None), '\\t\\t', '{:.4f}'.format(accuracyDT_2))\n",
    "print('Accuracy (ponderada)', '\\t', '{:.4f}'.format(paccuracy_RegLog), '\\t', '{:.4f}'.format(paccuracyDT_None), '\\t\\t', '{:.4f}'.format(paccuracyDT_2))\n",
    "print('F1-Score (mayoritaria', '\\t', '{:.4f}'.format(f1_RegLog), '\\t', '{:.4f}'.format(f1DT_None), '\\t\\t', '{:.4f}'.format(f1DT_2))\n",
    "print('F1-Score (ponderada)', '\\t', '{:.4f}'.format(pf1_RegLog), '\\t', '{:.4f}'.format(pf1DT_None), '\\t\\t', '{:.4f}'.format(pf1DT_2))\n",
    "\n",
    "print('\\n')\n",
    "print('El clasificador con menor poder predictivo, sin importar el mecanismo de votación utilizado, es la Regresión Logística.')\n",
    "print('Es evidente que el ensamblaje con votación ponderada favorece en cualquiera de los 3 escenarios.')\n",
    "print('Por el tiempo de ejecución se comprueba que se requiere mayor poder de cómputo para implementar la votación ponderada de los clasificadores.')\n",
    "print('Tanto la métrica de accuracy como F1-Score es mejor si se utiliza votación ponderada en todos los clasificadores.')\n",
    "print('El mejor rendimiento, acurracy = {:.4f}, se obtiene con la votación ponderada para el arbol de decisión con maxDepth=None.'.format(paccuracyDT_None))\n",
    "print('Por lo tanto, el arbol de decisión con maxDepth=None y un ensamblaje con votación ponderada sería el clasificador con mayor poder predictivo.')\n",
    "\n",
    "print('')"
   ]
  }
 ],
 "metadata": {
  "kernelspec": {
   "display_name": "Python 3",
   "language": "python",
   "name": "python3"
  },
  "language_info": {
   "codemirror_mode": {
    "name": "ipython",
    "version": 3
   },
   "file_extension": ".py",
   "mimetype": "text/x-python",
   "name": "python",
   "nbconvert_exporter": "python",
   "pygments_lexer": "ipython3",
   "version": "3.8.5"
  }
 },
 "nbformat": 4,
 "nbformat_minor": 4
}
